{
 "cells": [
  {
   "metadata": {
    "ExecuteTime": {
     "end_time": "2024-04-13T14:35:47.313354Z",
     "start_time": "2024-04-13T14:35:47.310194Z"
    }
   },
   "cell_type": "code",
   "source": [
    "# Hugging Face token\n",
    "import getpass\n",
    "import os\n",
    "if \"HUGGINGFACEHUB_API_TOKEN\" not in os.environ:\n",
    "    os.environ[\"HUGGINGFACEHUB_API_TOKEN\"] = getpass.getpass()"
   ],
   "id": "51fa47803bd37ee1",
   "outputs": [],
   "execution_count": 8
  },
  {
   "metadata": {
    "ExecuteTime": {
     "end_time": "2024-04-13T14:35:50.324545Z",
     "start_time": "2024-04-13T14:35:49.812846Z"
    }
   },
   "cell_type": "code",
   "source": [
    "# fetch the txt sample from GitHub with an HTTP GET request\n",
    "import requests\n",
    "URL = \"https://raw.githubusercontent.com/hwchase17/chat-your-data/master/state_of_the_union.txt\"\n",
    "res = requests.get(URL)\n",
    "with open(\"state_of_the_union.txt\", \"w\") as f:\n",
    "    f.write(res.text)"
   ],
   "id": "2b975ef2f3778dfe",
   "outputs": [],
   "execution_count": 9
  },
  {
   "metadata": {
    "ExecuteTime": {
     "end_time": "2024-04-13T14:35:53.471151Z",
     "start_time": "2024-04-13T14:35:53.458396Z"
    }
   },
   "cell_type": "code",
   "source": [
    "# with langchain textloader load the .txt file on documents variable\n",
    "from langchain.document_loaders import TextLoader\n",
    "loader = TextLoader('./state_of_the_union.txt')\n",
    "documents = loader.load()"
   ],
   "id": "903075a5ee9780fb",
   "outputs": [],
   "execution_count": 10
  },
  {
   "metadata": {
    "ExecuteTime": {
     "end_time": "2024-04-13T14:35:55.917133Z",
     "start_time": "2024-04-13T14:35:55.914282Z"
    }
   },
   "cell_type": "code",
   "source": [
    "# this function wraps the document on phrases preserving the new line (\\n) operator\n",
    "import textwrap\n",
    "\n",
    "def wrap_text_preserving_new_lines(text, width=110):\n",
    "    # Split the input text into lines based on newline characters\n",
    "    lines = text.split('\\n')\n",
    "    # Wrap each line individually\n",
    "    wrapped_lines = [textwrap.fill(line, width=width) for line in lines]\n",
    "    # Join the wrapped lines back together using newline characters\n",
    "    wrapped_text = '\\n'.join(wrapped_lines)\n",
    "    return wrapped_text\n"
   ],
   "id": "fed1127f61c5e3cb",
   "outputs": [],
   "execution_count": 11
  },
  {
   "metadata": {
    "ExecuteTime": {
     "end_time": "2024-04-13T14:36:00.598799Z",
     "start_time": "2024-04-13T14:36:00.594569Z"
    }
   },
   "cell_type": "code",
   "source": [
    "# Text Splitting\n",
    "from langchain.text_splitter import CharacterTextSplitter\n",
    "text_splitter = CharacterTextSplitter(chunk_size=1000, chunk_overlap=0)\n",
    "docs = text_splitter.split_documents(documents)"
   ],
   "id": "dee6ff733007da2b",
   "outputs": [],
   "execution_count": 12
  },
  {
   "metadata": {
    "ExecuteTime": {
     "end_time": "2024-04-13T14:36:02.646401Z",
     "start_time": "2024-04-13T14:36:02.642211Z"
    }
   },
   "cell_type": "code",
   "source": "len(docs)",
   "id": "9304e37b1c839822",
   "outputs": [
    {
     "data": {
      "text/plain": [
       "42"
      ]
     },
     "execution_count": 13,
     "metadata": {},
     "output_type": "execute_result"
    }
   ],
   "execution_count": 13
  },
  {
   "metadata": {
    "ExecuteTime": {
     "end_time": "2024-04-13T14:36:11.178922Z",
     "start_time": "2024-04-13T14:36:05.378450Z"
    }
   },
   "cell_type": "code",
   "source": [
    "# Embeddings\n",
    "from langchain.embeddings import HuggingFaceEmbeddings\n",
    "\n",
    "embeddings = HuggingFaceEmbeddings()"
   ],
   "id": "b860eec764655cee",
   "outputs": [],
   "execution_count": 14
  },
  {
   "metadata": {
    "ExecuteTime": {
     "end_time": "2024-04-13T14:36:26.772908Z",
     "start_time": "2024-04-13T14:36:18.918823Z"
    }
   },
   "cell_type": "code",
   "source": [
    "from langchain.vectorstores import FAISS\n",
    "\n",
    "db = FAISS.from_documents(docs, embeddings)"
   ],
   "id": "396da761ad40c5c",
   "outputs": [],
   "execution_count": 15
  },
  {
   "metadata": {
    "ExecuteTime": {
     "end_time": "2024-04-13T14:36:29.669240Z",
     "start_time": "2024-04-13T14:36:29.613215Z"
    }
   },
   "cell_type": "code",
   "source": [
    "query = \"What did the president say about the Supreme Court\"\n",
    "docs = db.similarity_search(query)"
   ],
   "id": "a8ca4c3f88e0104e",
   "outputs": [],
   "execution_count": 16
  },
  {
   "metadata": {
    "ExecuteTime": {
     "end_time": "2024-04-13T14:36:34.065336Z",
     "start_time": "2024-04-13T14:36:34.062257Z"
    }
   },
   "cell_type": "code",
   "source": "print(wrap_text_preserving_new_lines(str(docs[0].page_content)))",
   "id": "2f7f8105cb918d26",
   "outputs": [
    {
     "name": "stdout",
     "output_type": "stream",
     "text": [
      "Tonight. I call on the Senate to: Pass the Freedom to Vote Act. Pass the John Lewis Voting Rights Act. And\n",
      "while you’re at it, pass the Disclose Act so Americans can know who is funding our elections.\n",
      "\n",
      "Tonight, I’d like to honor someone who has dedicated his life to serve this country: Justice Stephen Breyer—an\n",
      "Army veteran, Constitutional scholar, and retiring Justice of the United States Supreme Court. Justice Breyer,\n",
      "thank you for your service.\n",
      "\n",
      "One of the most serious constitutional responsibilities a President has is nominating someone to serve on the\n",
      "United States Supreme Court.\n",
      "\n",
      "And I did that 4 days ago, when I nominated Circuit Court of Appeals Judge Ketanji Brown Jackson. One of our\n",
      "nation’s top legal minds, who will continue Justice Breyer’s legacy of excellence.\n"
     ]
    }
   ],
   "execution_count": 17
  },
  {
   "metadata": {
    "ExecuteTime": {
     "end_time": "2024-04-13T14:20:27.932763Z",
     "start_time": "2024-04-13T14:20:27.262945Z"
    }
   },
   "cell_type": "code",
   "source": [
    "# QA Search\n",
    "from langchain.chains.question_answering import load_qa_chain\n",
    "from langchain import HuggingFaceHub\n",
    "from langchain_community.llms import HuggingFaceEndpoint"
   ],
   "id": "290fcb387444cbe8",
   "outputs": [],
   "execution_count": 1
  },
  {
   "metadata": {
    "ExecuteTime": {
     "end_time": "2024-04-13T14:27:46.841920Z",
     "start_time": "2024-04-13T14:27:46.252988Z"
    }
   },
   "cell_type": "code",
   "source": "llm = HuggingFaceEndpoint(repo_id=\"mistralai/Mistral-7B-Instruct-v0.2\", temperature=0.1, max_length=512)",
   "id": "7f25b6f3a267af96",
   "outputs": [
    {
     "name": "stderr",
     "output_type": "stream",
     "text": [
      "WARNING! max_length is not default parameter.\n",
      "                    max_length was transferred to model_kwargs.\n",
      "                    Please make sure that max_length is what you intended.\n"
     ]
    },
    {
     "name": "stdout",
     "output_type": "stream",
     "text": [
      "Token has not been saved to git credential helper. Pass `add_to_git_credential=True` if you want to set the git credential as well.\n",
      "Token is valid (permission: write).\n",
      "Your token has been saved to C:\\Users\\usuario\\.cache\\huggingface\\token\n",
      "Login successful\n"
     ]
    }
   ],
   "execution_count": 4
  },
  {
   "metadata": {
    "ExecuteTime": {
     "end_time": "2024-04-13T14:36:48.219989Z",
     "start_time": "2024-04-13T14:36:48.216999Z"
    }
   },
   "cell_type": "code",
   "source": "chain = load_qa_chain(llm, chain_type=\"stuff\")",
   "id": "add1bf649f0ca2e0",
   "outputs": [],
   "execution_count": 18
  },
  {
   "metadata": {
    "ExecuteTime": {
     "end_time": "2024-04-13T14:37:26.338221Z",
     "start_time": "2024-04-13T14:37:24.596952Z"
    }
   },
   "cell_type": "code",
   "source": [
    "query = \"What did the president say about the Supreme Court\"\n",
    "docs = db.similarity_search(query)\n",
    "chain.run(input_documents=docs, question=query)"
   ],
   "id": "4d924b0da8540d63",
   "outputs": [
    {
     "data": {
      "text/plain": [
       "\" The president called on the Senate to pass three pieces of legislation related to voting rights and campaign finance disclosure. He also announced his nomination of Judge Ketanji Brown Jackson to the Supreme Court. He expressed optimism about America's ability to overcome current challenges and make progress.\""
      ]
     },
     "execution_count": 20,
     "metadata": {},
     "output_type": "execute_result"
    }
   ],
   "execution_count": 20
  },
  {
   "metadata": {},
   "cell_type": "code",
   "outputs": [],
   "execution_count": null,
   "source": "",
   "id": "23b6007b6c51f9f4"
  }
 ],
 "metadata": {
  "kernelspec": {
   "display_name": "Python 3",
   "language": "python",
   "name": "python3"
  },
  "language_info": {
   "codemirror_mode": {
    "name": "ipython",
    "version": 2
   },
   "file_extension": ".py",
   "mimetype": "text/x-python",
   "name": "python",
   "nbconvert_exporter": "python",
   "pygments_lexer": "ipython2",
   "version": "2.7.6"
  }
 },
 "nbformat": 4,
 "nbformat_minor": 5
}
