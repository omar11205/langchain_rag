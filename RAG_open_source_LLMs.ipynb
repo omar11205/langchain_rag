{
 "cells": [
  {
   "cell_type": "code",
   "id": "initial_id",
   "metadata": {
    "collapsed": true
   },
   "source": [
    "from langchain.document_loaders import WebBaseLoader\n",
    "from langchain.text_splitter import RecursiveCharacterTextSplitter\n",
    "from langchain.embeddings import HuggingFaceInferenceAPIEmbeddings\n",
    "from langchain.vectorstores import Chroma\n",
    "from langchain.llms import HuggingFaceHub\n",
    "from langchain.chains import retrieval_qa"
   ],
   "outputs": [],
   "execution_count": null
  },
  {
   "metadata": {
    "ExecuteTime": {
     "end_time": "2024-04-12T19:07:32.561790Z",
     "start_time": "2024-04-12T19:07:32.558017Z"
    }
   },
   "cell_type": "code",
   "source": [
    "# Hugging Face token\n",
    "import os\n",
    "api_key = os.getenv('HUGGING_FACE_API_KEY')"
   ],
   "id": "51fa47803bd37ee1",
   "outputs": [],
   "execution_count": 1
  },
  {
   "metadata": {
    "ExecuteTime": {
     "end_time": "2024-04-12T20:17:56.698351Z",
     "start_time": "2024-04-12T20:17:56.147877Z"
    }
   },
   "cell_type": "code",
   "source": [
    "# fetch the txt sample from GitHub with an HTTP GET request\n",
    "import requests\n",
    "URL = \"https://raw.githubusercontent.com/hwchase17/chat-your-data/master/state_of_the_union.txt\"\n",
    "res = requests.get(URL)\n",
    "with open(\"state_of_the_union.txt\", \"w\") as f:\n",
    "    f.write(res.text)"
   ],
   "id": "2b975ef2f3778dfe",
   "outputs": [],
   "execution_count": 6
  },
  {
   "metadata": {
    "ExecuteTime": {
     "end_time": "2024-04-12T20:09:11.964578Z",
     "start_time": "2024-04-12T20:09:11.959722Z"
    }
   },
   "cell_type": "code",
   "source": [
    "# with langchain textloader load the .txt file on documents variable\n",
    "from langchain.document_loaders import TextLoader\n",
    "loader = TextLoader('./state_of_the_union.txt')\n",
    "documents = loader.load()\n",
    "type(documents)"
   ],
   "id": "903075a5ee9780fb",
   "outputs": [
    {
     "data": {
      "text/plain": [
       "list"
      ]
     },
     "execution_count": 5,
     "metadata": {},
     "output_type": "execute_result"
    }
   ],
   "execution_count": 5
  },
  {
   "metadata": {},
   "cell_type": "code",
   "outputs": [],
   "execution_count": null,
   "source": [
    "# this function wraps the document on phrases preserving the new line (\\n) operator\n",
    "import textwrap\n",
    "\n",
    "def wrap_text_preserving_new_lines(text, width=110):\n",
    "    pass\n",
    "    "
   ],
   "id": "fed1127f61c5e3cb"
  }
 ],
 "metadata": {
  "kernelspec": {
   "display_name": "Python 3",
   "language": "python",
   "name": "python3"
  },
  "language_info": {
   "codemirror_mode": {
    "name": "ipython",
    "version": 2
   },
   "file_extension": ".py",
   "mimetype": "text/x-python",
   "name": "python",
   "nbconvert_exporter": "python",
   "pygments_lexer": "ipython2",
   "version": "2.7.6"
  }
 },
 "nbformat": 4,
 "nbformat_minor": 5
}
